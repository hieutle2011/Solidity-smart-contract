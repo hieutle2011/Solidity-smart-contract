{
 "cells": [
  {
   "cell_type": "markdown",
   "metadata": {},
   "source": [
    "link https://cryptozombies.io/"
   ]
  },
  {
   "cell_type": "markdown",
   "metadata": {},
   "source": [
    "# Chapter 2: Mappings and Addresses\n",
    "\n",
    "Let's make our game multi-player by giving the zombies in our database an owner.\n",
    "\n",
    "To do this, we'll need 2 new data types: mapping and address."
   ]
  },
  {
   "cell_type": "markdown",
   "metadata": {},
   "source": [
    "### Addresses\n",
    "\n",
    "The Ethereum blockchain is made up of accounts, which you can think of like bank accounts. An account has a balance of Ether (the currency used on the Ethereum blockchain), and you can send and receive Ether payments to other accounts, just like your bank account can wire transfer money to other bank accounts.\n",
    "\n",
    "Each account has an address, which you can think of like a bank account number. It's a unique identifier that points to that account, and it looks like this:\n",
    "\n",
    "0x0cE446255506E92DF41614C46F1d6df9Cc969183\n",
    "\n",
    "(This address belongs to the CryptoZombies team. If you're enjoying CryptoZombies, you can send us some Ether! 😉 )\n",
    "\n",
    "We'll get into the nitty gritty of addresses in a later lesson, but for now you only need to understand that an address is owned by a specific user (or a smart contract).\n",
    "\n",
    "So we can use it as a unique ID for ownership of our zombies. When a user creates new zombies by interacting with our app, we'll set ownership of those zombies to the Ethereum address that called the function."
   ]
  },
  {
   "cell_type": "markdown",
   "metadata": {},
   "source": [
    "### Mappings\n",
    "\n",
    "In Lesson 1 we looked at structs and arrays. Mappings are another way of storing organized data in Solidity.\n",
    "\n",
    "Defining a mapping looks like this:\n",
    "\n"
   ]
  },
  {
   "cell_type": "code",
   "execution_count": null,
   "metadata": {
    "collapsed": true
   },
   "outputs": [],
   "source": [
    "# For a financial app, storing a uint that holds the user's account balance:\n",
    "mapping (address => uint) public accountBalance;\n",
    "# Or could be used to store / lookup usernames based on userId\n",
    "mapping (uint => string) userIdToName;"
   ]
  },
  {
   "cell_type": "markdown",
   "metadata": {},
   "source": [
    "\n",
    "A mapping is essentially a key-value store for storing and looking up data. In the first example, the key is an address and the value is a uint, and in the second example the key is a uint and the value a string."
   ]
  },
  {
   "cell_type": "markdown",
   "metadata": {},
   "source": [
    "Put it to the test\n",
    "\n",
    "To store zombie ownership, we're going to use two mappings: one that keeps track of the address that owns a zombie, and another that keeps track of how many zombies an owner has.\n",
    "\n",
    "    Create a mapping called zombieToOwner. The key will be a uint (we'll store and look up the zombie based on its id) and the value an address. Let's make this mapping public.\n",
    "\n",
    "    Create a mapping called ownerZombieCount, where the key is an address and the value a uint.\n"
   ]
  },
  {
   "cell_type": "markdown",
   "metadata": {},
   "source": [
    "# Chapter 3: Msg.sender\n",
    "\n",
    "Now that we have our mappings to keep track of who owns a zombie, we'll want to update the _createZombie method to use them.\n",
    "\n",
    "In order to do this, we need to use something called msg.sender.\n",
    "\n",
    "### msg.sender\n",
    "\n",
    "In Solidity, there are certain global variables that are available to all functions. One of these is msg.sender, which refers to the address of the person (or smart contract) who called the current function.\n",
    "\n",
    "    Note: In Solidity, function execution always needs to start with an external caller. A contract will just sit on the blockchain doing nothing until someone calls one of its functions. So there will always be a msg.sender.\n",
    "\n",
    "Here's an example of using msg.sender and updating a mapping:"
   ]
  },
  {
   "cell_type": "code",
   "execution_count": null,
   "metadata": {
    "collapsed": true
   },
   "outputs": [],
   "source": [
    "mapping (address => uint) favoriteNumber;\n",
    "\n",
    "function setMyNumber(uint _myNumber) public {\n",
    "  # Update our `favoriteNumber` mapping to store `_myNumber` under `msg.sender`\n",
    "  favoriteNumber[msg.sender] = _myNumber;\n",
    "  # ^ The syntax for storing data in a mapping is just like with arrays\n",
    "}\n",
    "\n",
    "function whatIsMyNumber() public view returns (uint) {\n",
    "  # Retrieve the value stored in the sender's address\n",
    "  # Will be `0` if the sender hasn't called `setMyNumber` yet\n",
    "  return favoriteNumber[msg.sender];\n",
    "}"
   ]
  },
  {
   "cell_type": "markdown",
   "metadata": {},
   "source": [
    "In this trivial example, anyone could call setMyNumber and store a uint in our contract, which would be tied to their address. Then when they called whatIsMyNumber, they would be returned the uint that they stored.\n",
    "\n",
    "Using msg.sender gives you the security of the Ethereum blockchain — the only way someone can modify someone else's data would be to steal the private key associated with their Ethereum address.\n",
    "\n",
    "### Put it to the test\n",
    "\n",
    "Let's update our _createZombie method from lesson 1 to assign ownership of the zombie to whoever called the function.\n",
    "\n",
    " - First, after we get back the new zombie's id, let's update our zombieToOwner mapping to store msg.sender under that id.\n",
    " - Second, let's increase ownerZombieCount for this msg.sender.\n",
    "\n",
    "In Solidity, you can increase a uint with ++, just like in javascript:\n",
    "\n",
    "uint number = 0;\n",
    "\n",
    "number++;\n",
    "\n",
    "`number` is now `1`\n",
    "\n",
    "Your final answer for this chapter should be 2 lines of code."
   ]
  },
  {
   "cell_type": "markdown",
   "metadata": {},
   "source": [
    "# Chapter 4: Require\n",
    "\n",
    "In lesson 1, we made it so users can create new zombies by calling createRandomZombie and entering a name. However, if users could keep calling this function to create unlimited zombies in their army, the game wouldn't be very fun.\n",
    "\n",
    "Let's make it so each player can only call this function once. That way new players will call it when they first start the game in order to create the initial zombie in their army.\n",
    "\n",
    "How can we make it so this function can only be called once per player?\n",
    "\n",
    "For that we use require. require makes it so that the function will throw an error and stop executing if some condition is not true:"
   ]
  },
  {
   "cell_type": "code",
   "execution_count": null,
   "metadata": {
    "collapsed": true
   },
   "outputs": [],
   "source": [
    "function sayHiToVitalik(string _name) public returns (string) {\n",
    "  // Compares if _name equals \"Vitalik\". Throws an error and exits if not true.\n",
    "  // (Side note: Solidity doesn't have native string comparison, so we\n",
    "  // compare their keccak256 hashes to see if the strings are equal)\n",
    "  require(keccak256(_name) == keccak256(\"Vitalik\"));\n",
    "  // If it's true, proceed with the function:\n",
    "  return \"Hi!\";\n",
    "}"
   ]
  },
  {
   "cell_type": "markdown",
   "metadata": {},
   "source": [
    "If you call this function with sayHiToVitalik(\"Vitalik\"), it will return \"Hi!\". If you call it with any other input, it will throw an error and not execute.\n",
    "\n",
    "Thus require is quite useful for verifying certain conditions that must be true before running a function.\n",
    "\n",
    "### Put it to the test\n",
    "\n",
    "In our zombie game, we don't want the user to be able to create unlimited zombies in their army by repeatedly calling createRandomZombie — it would make the game not very fun.\n",
    "\n",
    "Let's use require to make sure this function only gets executed one time per user, when they create their first zombie.\n",
    "\n",
    "    Put a require statement at the beginning of createRandomZombie. The function should check to make sure ownerZombieCount[msg.sender] is equal to 0, and throw an error otherwise.\n",
    "\n",
    "    Note: In Solidity, it doesn't matter which term you put first — both orders are equivalent. However, since our answer checker is really basic, it will only accept one answer as correct — it's expecting ownerZombieCount[msg.sender] to come first.\n"
   ]
  },
  {
   "cell_type": "markdown",
   "metadata": {},
   "source": [
    "# Chapter 5: Inheritance\n",
    "\n",
    "Our game code is getting quite long. Rather than making one extremely long contract, sometimes it makes sense to split your code logic across multiple contracts to organize the code.\n",
    "\n",
    "One feature of Solidity that makes this more manageable is contract inheritance:"
   ]
  },
  {
   "cell_type": "code",
   "execution_count": null,
   "metadata": {
    "collapsed": true
   },
   "outputs": [],
   "source": [
    "contract Doge {\n",
    "  function catchphrase() public returns (string) {\n",
    "    return \"So Wow CryptoDoge\";\n",
    "  }\n",
    "}\n",
    "\n",
    "contract BabyDoge is Doge {\n",
    "  function anotherCatchphrase() public returns (string) {\n",
    "    return \"Such Moon BabyDoge\";\n",
    "  }\n",
    "}"
   ]
  },
  {
   "cell_type": "markdown",
   "metadata": {},
   "source": [
    "BabyDoge inherits from Doge. That means if you compile and deploy BabyDoge, it will have access to both catchphrase() and anotherCatchphrase() (and any other public functions we may define on Doge).\n",
    "\n",
    "This can be used for logical inheritance (such as with a subclass, a Cat is an Animal). But it can also be used simply for organizing your code by grouping similar logic together into different contracts.\n",
    "### Put it to the test\n",
    "\n",
    "In the next chapters, we're going to be implementing the functionality for our zombies to feed and multiply. Let's put this logic into its own contract that inherits all the methods from ZombieFactory.\n",
    "\n",
    "- Make a contract called ZombieFeeding below ZombieFactory. This contract should inherit from our ZombieFactory contract.\n"
   ]
  },
  {
   "cell_type": "code",
   "execution_count": null,
   "metadata": {
    "collapsed": true
   },
   "outputs": [],
   "source": []
  }
 ],
 "metadata": {
  "kernelspec": {
   "display_name": "Python 3",
   "language": "python",
   "name": "python3"
  },
  "language_info": {
   "codemirror_mode": {
    "name": "ipython",
    "version": 3
   },
   "file_extension": ".py",
   "mimetype": "text/x-python",
   "name": "python",
   "nbconvert_exporter": "python",
   "pygments_lexer": "ipython3",
   "version": "3.5.2"
  }
 },
 "nbformat": 4,
 "nbformat_minor": 2
}
