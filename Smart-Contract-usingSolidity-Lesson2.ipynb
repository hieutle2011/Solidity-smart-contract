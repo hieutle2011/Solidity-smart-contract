{
 "cells": [
  {
   "cell_type": "markdown",
   "metadata": {},
   "source": [
    "link   https://cryptozombies.io/"
   ]
  },
  {
   "cell_type": "markdown",
   "metadata": {},
   "source": [
    "# Chapter 2: Mappings and Addresses\n",
    "\n",
    "Let's make our game multi-player by giving the zombies in our database an owner.\n",
    "\n",
    "To do this, we'll need 2 new data types: mapping and address."
   ]
  },
  {
   "cell_type": "markdown",
   "metadata": {},
   "source": [
    "### Addresses\n",
    "\n",
    "The Ethereum blockchain is made up of accounts, which you can think of like bank accounts. An account has a balance of Ether (the currency used on the Ethereum blockchain), and you can send and receive Ether payments to other accounts, just like your bank account can wire transfer money to other bank accounts.\n",
    "\n",
    "Each account has an address, which you can think of like a bank account number. It's a unique identifier that points to that account, and it looks like this:\n",
    "\n",
    "0x0cE446255506E92DF41614C46F1d6df9Cc969183\n",
    "\n",
    "(This address belongs to the CryptoZombies team. If you're enjoying CryptoZombies, you can send us some Ether! 😉 )\n",
    "\n",
    "We'll get into the nitty gritty of addresses in a later lesson, but for now you only need to understand that an address is owned by a specific user (or a smart contract).\n",
    "\n",
    "So we can use it as a unique ID for ownership of our zombies. When a user creates new zombies by interacting with our app, we'll set ownership of those zombies to the Ethereum address that called the function."
   ]
  },
  {
   "cell_type": "markdown",
   "metadata": {},
   "source": [
    "### Mappings\n",
    "\n",
    "In Lesson 1 we looked at structs and arrays. Mappings are another way of storing organized data in Solidity.\n",
    "\n",
    "Defining a mapping looks like this:\n",
    "\n"
   ]
  },
  {
   "cell_type": "code",
   "execution_count": null,
   "metadata": {
    "collapsed": true
   },
   "outputs": [],
   "source": [
    "# For a financial app, storing a uint that holds the user's account balance:\n",
    "mapping (address => uint) public accountBalance;\n",
    "# Or could be used to store / lookup usernames based on userId\n",
    "mapping (uint => string) userIdToName;"
   ]
  },
  {
   "cell_type": "markdown",
   "metadata": {},
   "source": [
    "\n",
    "A mapping is essentially a key-value store for storing and looking up data. In the first example, the key is an address and the value is a uint, and in the second example the key is a uint and the value a string."
   ]
  },
  {
   "cell_type": "markdown",
   "metadata": {},
   "source": [
    "Put it to the test\n",
    "\n",
    "To store zombie ownership, we're going to use two mappings: one that keeps track of the address that owns a zombie, and another that keeps track of how many zombies an owner has.\n",
    "\n",
    "    Create a mapping called zombieToOwner. The key will be a uint (we'll store and look up the zombie based on its id) and the value an address. Let's make this mapping public.\n",
    "\n",
    "    Create a mapping called ownerZombieCount, where the key is an address and the value a uint.\n"
   ]
  },
  {
   "cell_type": "markdown",
   "metadata": {},
   "source": [
    "# Chapter 3: Msg.sender\n",
    "\n",
    "Now that we have our mappings to keep track of who owns a zombie, we'll want to update the _createZombie method to use them.\n",
    "\n",
    "In order to do this, we need to use something called msg.sender.\n",
    "\n",
    "### msg.sender\n",
    "\n",
    "In Solidity, there are certain global variables that are available to all functions. One of these is msg.sender, which refers to the address of the person (or smart contract) who called the current function.\n",
    "\n",
    "    Note: In Solidity, function execution always needs to start with an external caller. A contract will just sit on the blockchain doing nothing until someone calls one of its functions. So there will always be a msg.sender.\n",
    "\n",
    "Here's an example of using msg.sender and updating a mapping:"
   ]
  },
  {
   "cell_type": "code",
   "execution_count": null,
   "metadata": {
    "collapsed": true
   },
   "outputs": [],
   "source": [
    "mapping (address => uint) favoriteNumber;\n",
    "\n",
    "function setMyNumber(uint _myNumber) public {\n",
    "  # Update our `favoriteNumber` mapping to store `_myNumber` under `msg.sender`\n",
    "  favoriteNumber[msg.sender] = _myNumber;\n",
    "  # ^ The syntax for storing data in a mapping is just like with arrays\n",
    "}\n",
    "\n",
    "function whatIsMyNumber() public view returns (uint) {\n",
    "  # Retrieve the value stored in the sender's address\n",
    "  # Will be `0` if the sender hasn't called `setMyNumber` yet\n",
    "  return favoriteNumber[msg.sender];\n",
    "}"
   ]
  },
  {
   "cell_type": "markdown",
   "metadata": {},
   "source": [
    "In this trivial example, anyone could call setMyNumber and store a uint in our contract, which would be tied to their address. Then when they called whatIsMyNumber, they would be returned the uint that they stored.\n",
    "\n",
    "Using msg.sender gives you the security of the Ethereum blockchain — the only way someone can modify someone else's data would be to steal the private key associated with their Ethereum address.\n",
    "\n",
    "### Put it to the test\n",
    "\n",
    "Let's update our _createZombie method from lesson 1 to assign ownership of the zombie to whoever called the function.\n",
    "\n",
    " - First, after we get back the new zombie's id, let's update our zombieToOwner mapping to store msg.sender under that id.\n",
    " - Second, let's increase ownerZombieCount for this msg.sender.\n",
    "\n",
    "In Solidity, you can increase a uint with ++, just like in javascript:\n",
    "\n",
    "uint number = 0;\n",
    "\n",
    "number++;\n",
    "\n",
    "`number` is now `1`\n",
    "\n",
    "Your final answer for this chapter should be 2 lines of code."
   ]
  },
  {
   "cell_type": "markdown",
   "metadata": {},
   "source": [
    "# Chapter 4: Require\n",
    "\n",
    "In lesson 1, we made it so users can create new zombies by calling createRandomZombie and entering a name. However, if users could keep calling this function to create unlimited zombies in their army, the game wouldn't be very fun.\n",
    "\n",
    "Let's make it so each player can only call this function once. That way new players will call it when they first start the game in order to create the initial zombie in their army.\n",
    "\n",
    "How can we make it so this function can only be called once per player?\n",
    "\n",
    "For that we use require. require makes it so that the function will throw an error and stop executing if some condition is not true:"
   ]
  },
  {
   "cell_type": "code",
   "execution_count": null,
   "metadata": {
    "collapsed": true
   },
   "outputs": [],
   "source": [
    "function sayHiToVitalik(string _name) public returns (string) {\n",
    "  // Compares if _name equals \"Vitalik\". Throws an error and exits if not true.\n",
    "  // (Side note: Solidity doesn't have native string comparison, so we\n",
    "  // compare their keccak256 hashes to see if the strings are equal)\n",
    "  require(keccak256(_name) == keccak256(\"Vitalik\"));\n",
    "  // If it's true, proceed with the function:\n",
    "  return \"Hi!\";\n",
    "}"
   ]
  },
  {
   "cell_type": "markdown",
   "metadata": {},
   "source": [
    "If you call this function with sayHiToVitalik(\"Vitalik\"), it will return \"Hi!\". If you call it with any other input, it will throw an error and not execute.\n",
    "\n",
    "Thus require is quite useful for verifying certain conditions that must be true before running a function.\n",
    "\n",
    "### Put it to the test\n",
    "\n",
    "In our zombie game, we don't want the user to be able to create unlimited zombies in their army by repeatedly calling createRandomZombie — it would make the game not very fun.\n",
    "\n",
    "Let's use require to make sure this function only gets executed one time per user, when they create their first zombie.\n",
    "\n",
    "    Put a require statement at the beginning of createRandomZombie. The function should check to make sure ownerZombieCount[msg.sender] is equal to 0, and throw an error otherwise.\n",
    "\n",
    "    Note: In Solidity, it doesn't matter which term you put first — both orders are equivalent. However, since our answer checker is really basic, it will only accept one answer as correct — it's expecting ownerZombieCount[msg.sender] to come first.\n"
   ]
  },
  {
   "cell_type": "code",
   "execution_count": null,
   "metadata": {},
   "outputs": [],
   "source": [
    "pragma solidity ^0.4.19;\n",
    "\n",
    "contract ZombieFactory {\n",
    "\n",
    "    event NewZombie(uint zombieId, string name, uint dna);\n",
    "\n",
    "    uint dnaDigits = 16;\n",
    "    uint dnaModulus = 10 ** dnaDigits;\n",
    "\n",
    "    struct Zombie {\n",
    "        string name;\n",
    "        uint dna;\n",
    "    }\n",
    "\n",
    "    Zombie[] public zombies;\n",
    "\n",
    "    mapping (uint => address) public zombieToOwner;\n",
    "    mapping (address => uint) ownerZombieCount;\n",
    "\n",
    "    function _createZombie(string _name, uint _dna) private {\n",
    "        uint id = zombies.push(Zombie(_name, _dna)) - 1;\n",
    "        zombieToOwner[id] = msg.sender;\n",
    "        ownerZombieCount[msg.sender]++;\n",
    "        NewZombie(id, _name, _dna);\n",
    "    }\n",
    "\n",
    "    function _generateRandomDna(string _str) private view returns (uint) {\n",
    "        uint rand = uint(keccak256(_str));\n",
    "        return rand % dnaModulus;\n",
    "    }\n",
    "\n",
    "    function createRandomZombie(string _name) public {\n",
    "        require(ownerZombieCount[msg.sender] == 0);\n",
    "        uint randDna = _generateRandomDna(_name);\n",
    "        _createZombie(_name, randDna);\n",
    "    }\n",
    "\n",
    "}"
   ]
  },
  {
   "cell_type": "markdown",
   "metadata": {},
   "source": [
    "# Chapter 5: Inheritance\n",
    "\n",
    "Our game code is getting quite long. Rather than making one extremely long contract, sometimes it makes sense to split your code logic across multiple contracts to organize the code.\n",
    "\n",
    "One feature of Solidity that makes this more manageable is contract inheritance:"
   ]
  },
  {
   "cell_type": "code",
   "execution_count": null,
   "metadata": {
    "collapsed": true
   },
   "outputs": [],
   "source": [
    "contract Doge {\n",
    "  function catchphrase() public returns (string) {\n",
    "    return \"So Wow CryptoDoge\";\n",
    "  }\n",
    "}\n",
    "\n",
    "contract BabyDoge is Doge {\n",
    "  function anotherCatchphrase() public returns (string) {\n",
    "    return \"Such Moon BabyDoge\";\n",
    "  }\n",
    "}"
   ]
  },
  {
   "cell_type": "markdown",
   "metadata": {},
   "source": [
    "BabyDoge inherits from Doge. That means if you compile and deploy BabyDoge, it will have access to both catchphrase() and anotherCatchphrase() (and any other public functions we may define on Doge).\n",
    "\n",
    "This can be used for logical inheritance (such as with a subclass, a Cat is an Animal). But it can also be used simply for organizing your code by grouping similar logic together into different contracts.\n",
    "### Put it to the test\n",
    "\n",
    "In the next chapters, we're going to be implementing the functionality for our zombies to feed and multiply. Let's put this logic into its own contract that inherits all the methods from ZombieFactory.\n",
    "\n",
    "- Make a contract called ZombieFeeding below ZombieFactory. This contract should inherit from our ZombieFactory contract.\n"
   ]
  },
  {
   "cell_type": "markdown",
   "metadata": {
    "collapsed": true
   },
   "source": [
    "# Chapter 6: Import\n",
    "\n",
    "Whoa! You'll notice we just cleaned up the code to the right, and you now have tabs at the top of your editor. Go ahead, click between the tabs to try it out.\n",
    "\n",
    "Our code was getting pretty long, so we split it up into multiple files to make it more manageable. This is normally how you will handle long codebases in your Solidity projects.\n",
    "\n",
    "When you have multiple files and you want to import one file into another, Solidity uses the import keyword:"
   ]
  },
  {
   "cell_type": "code",
   "execution_count": null,
   "metadata": {},
   "outputs": [],
   "source": [
    "import \"./someothercontract.sol\";\n",
    "\n",
    "contract newContract is SomeOtherContract {\n",
    "\n",
    "}"
   ]
  },
  {
   "cell_type": "markdown",
   "metadata": {},
   "source": [
    "So if we had a file named someothercontract.sol in the same directory as this contract (that's what the ./ means), it would get imported by the compiler.\n",
    "### Put it to the test\n",
    "\n",
    "Now that we've set up a multi-file structure, we need to use import to read the contents of the other file:\n",
    "\n",
    "    Import zombiefactory.sol into our new file, zombiefeeding.sol.\n"
   ]
  },
  {
   "cell_type": "markdown",
   "metadata": {},
   "source": [
    "# Chapter 7: Storage vs Memory\n",
    "\n",
    "In Solidity, there are two places you can store variables — in storage and in memory.\n",
    "\n",
    "Storage refers to variables stored permanently on the blockchain. Memory variables are temporary, and are erased between external function calls to your contract. Think of it like your computer's hard disk vs RAM.\n",
    "\n",
    "Most of the time you don't need to use these keywords because Solidity handles them by default. State variables (variables declared outside of functions) are by default storage and written permanently to the blockchain, while variables declared inside functions are memory and will disappear when the function call ends.\n",
    "\n",
    "However, there are times when you do need to use these keywords, namely when dealing with structs and arrays within functions:"
   ]
  },
  {
   "cell_type": "code",
   "execution_count": null,
   "metadata": {},
   "outputs": [],
   "source": [
    "contract SandwichFactory {\n",
    "  struct Sandwich {\n",
    "    string name;\n",
    "    string status;\n",
    "  }\n",
    "\n",
    "  Sandwich[] sandwiches;\n",
    "\n",
    "  function eatSandwich(uint _index) public {\n",
    "    // Sandwich mySandwich = sandwiches[_index];\n",
    "\n",
    "    // ^ Seems pretty straightforward, but solidity will give you a warning\n",
    "    // telling you that you should explicitly declare `storage` or `memory` here.\n",
    "\n",
    "    // So instead, you should declare with the `storage` keyword, like:\n",
    "    Sandwich storage mySandwich = sandwiches[_index];\n",
    "    // ...in which case `mySandwich` is a pointer to `sandwiches[_index]`\n",
    "    // in storage, and...\n",
    "    mySandwich.status = \"Eaten!\";\n",
    "    // ...this will permanently change `sandwiches[_index]` on the blockchain.\n",
    "\n",
    "    // If you just want a copy, you can use `memory`:\n",
    "    Sandwich memory anotherSandwich = sandwiches[_index + 1];\n",
    "    // ...in which case `anotherSandwich` will simply be a copy of the \n",
    "    // data in memory, and...\n",
    "    anotherSandwich.status = \"Eaten!\";\n",
    "    // ...will just modify the temporary variable and have no effect \n",
    "    // on `sandwiches[_index + 1]`. But you can do this:\n",
    "    sandwiches[_index + 1] = anotherSandwich;\n",
    "    // ...if you want to copy the changes back into blockchain storage.\n",
    "  }\n",
    "}"
   ]
  },
  {
   "cell_type": "markdown",
   "metadata": {},
   "source": [
    "Don't worry if you don't fully understand when to use which one yet — throughout this tutorial we'll tell you when to use storage and when to use memory, and the Solidity compiler will also give you warnings to let you know when you should be using one of these keywords.\n",
    "\n",
    "For now, it's enough to understand that there are cases where you'll need to explicitly declare storage or memory!\n",
    "### Put it to the test\n",
    "\n",
    "It's time to give our zombies the ability to feed and multiply!\n",
    "\n",
    "When a zombie feeds on some other lifeform, its DNA will combine with the other lifeform's DNA to create a new zombie.\n",
    "\n",
    "- Create a function called feedAndMultiply. It will take two parameters: _zombieId (a uint) and _targetDna (also a uint). This function should be public.\n",
    "\n",
    "- We don't want to let someone else feed using our zombie! So first, let's make sure we own this zombie. Add a require statement to make sure msg.sender is equal to this zombie's owner (similar to how we did in the createRandomZombie function).\n",
    "\n",
    "   -Note: Again, because our answer-checker is primitive, it's expecting msg.sender to come first and will mark it wrong if you switch the order. But normally when you're coding, you can use whichever order you prefer — both are correct.\n",
    "\n",
    "- We're going to need to get this zombie's DNA. So the next thing our function should do is declare a local Zombie named myZombie (which will be a storage pointer). Set this variable to be equal to index _zombieId in our zombies array.\n",
    "\n",
    "You should have 4 lines of code so far, including the line with the closing }.\n",
    "\n",
    "We'll continue fleshing out this function in the next chapter!"
   ]
  },
  {
   "cell_type": "markdown",
   "metadata": {},
   "source": [
    "# Chapter 8: Zombie DNA\n",
    "\n",
    "Let's finish writing the feedAndMultiply function.\n",
    "\n",
    "The formula for calculating a new zombie's DNA is simple: It's simply that average between the feeding zombie's DNA and the target's DNA. \n",
    "Later we can make our formula more complicated if we want to, like adding some randomness to the new zombie's DNA. But for now we'll keep it simple — we can always come back to it later.\n",
    "### Put it to the test\n",
    "\n",
    "- First we need to make sure that _targetDna isn't longer than 16 digits. To do this, we can set _targetDna equal to _targetDna % dnaModulus to only take the last 16 digits.\n",
    "\n",
    "- Next our function should declare a uint named newDna, and set it equal to the average of myZombie's DNA and _targetDna (as in the example above).\n",
    "\n",
    "        Note: You can access the properties of myZombie using myZombie.name and myZombie.dna\n",
    "\n",
    "- Once we have the new DNA, let's call _createZombie. You can look at the zombiefactory.sol tab if you forget which parameters this function needs to call it. Note that it requires a name, so let's set our new zombie's name to \"NoName\" for now — we can write a function to change zombies' names later.\n"
   ]
  },
  {
   "cell_type": "markdown",
   "metadata": {},
   "source": [
    "# Chapter 9: More on Function Visibility\n",
    "### Internal and External\n",
    "\n",
    "In addition to public and private, Solidity has two more types of visibility for functions: internal and external.\n",
    "\n",
    "internal is the same as private, except that it's also accessible to contracts that inherit from this contract. (Hey, that sounds like what we want here!).\n",
    "\n",
    "external is similar to public, except that these functions can ONLY be called outside the contract — they can't be called by other functions inside that contract. We'll talk about why you might want to use external vs public later.\n",
    "\n",
    "For declaring internal or external functions, the syntax is the same as private and public:"
   ]
  },
  {
   "cell_type": "markdown",
   "metadata": {},
   "source": [
    "# Chapter 10: What Do Zombies Eat?\n",
    "\n",
    "It's time to feed our zombies! And what do zombies like to eat most?\n",
    "\n",
    "Well it just so happens that CryptoZombies love to eat...\n",
    "\n",
    "CryptoKitties! 😱😱😱\n",
    "\n",
    "(Yes, I'm serious 😆 )\n",
    "\n",
    "In order to do this we'll need to read the kittyDna from the CryptoKitties smart contract. We can do that because the CryptoKitties data is stored openly on the blockchain. Isn't the blockchain cool?!\n",
    "\n",
    "Don't worry — our game isn't actually going to hurt anyone's CryptoKitty. We're only reading the CryptoKitties data, we're not able to actually delete it 😉\n",
    "Interacting with other contracts\n",
    "\n",
    "For our contract to talk to another contract on the blockchain that we don't own, first we need to define an interface.\n",
    "\n",
    "Let's look at a simple example. Say there was a contract on the blockchain that looked like this:"
   ]
  },
  {
   "cell_type": "code",
   "execution_count": null,
   "metadata": {},
   "outputs": [],
   "source": [
    "contract LuckyNumber {\n",
    "  mapping(address => uint) numbers;\n",
    "\n",
    "  function setNum(uint _num) public {\n",
    "    numbers[msg.sender] = _num;\n",
    "  }\n",
    "\n",
    "  function getNum(address _myAddress) public view returns (uint) {\n",
    "    return numbers[_myAddress];\n",
    "  }\n",
    "}"
   ]
  },
  {
   "cell_type": "markdown",
   "metadata": {},
   "source": [
    "This would be a simple contract where anyone could store their lucky number, and it will be associated with their Ethereum address. Then anyone else could look up that person's lucky number using their address.\n",
    "\n",
    "Now let's say we had an external contract that wanted to read the data in this contract using the getNum function.\n",
    "\n",
    "First we'd have to define an interface of the LuckyNumber contract:"
   ]
  },
  {
   "cell_type": "code",
   "execution_count": null,
   "metadata": {},
   "outputs": [],
   "source": [
    "contract NumberInterface {\n",
    "  function getNum(address _myAddress) public view returns (uint);\n",
    "}"
   ]
  },
  {
   "cell_type": "markdown",
   "metadata": {},
   "source": [
    "Notice that this looks like defining a contract, with a few differences. For one, we're only declaring the functions we want to interact with — in this case getNum — and we don't mention any of the other functions or state variables.\n",
    "\n",
    "Secondly, we're not defining the function bodies. Instead of curly braces ({ and }), we're simply ending the function declaration with a semi-colon (;).\n",
    "\n",
    "So it kind of looks like a contract skeleton. This is how the compiler knows it's an interface.\n",
    "\n",
    "By including this interface in our dapp's code our contract knows what the other contract's functions look like, how to call them, and what sort of response to expect.\n",
    "\n",
    "We'll get into actually calling the other contract's functions in the next lesson, but for now let's declare our interface for the CryptoKitties contract."
   ]
  },
  {
   "cell_type": "markdown",
   "metadata": {},
   "source": [
    "### Put it to the test\n",
    "\n",
    "We've looked up the CryptoKitties source code for you, and found a function called getKitty that returns all the kitty's data, including its \"genes\" (which is what our zombie game needs to form a new zombie!).\n",
    "\n",
    "The function looks like this:"
   ]
  },
  {
   "cell_type": "code",
   "execution_count": null,
   "metadata": {},
   "outputs": [],
   "source": [
    "function getKitty(uint256 _id) external view returns (\n",
    "    bool isGestating,\n",
    "    bool isReady,\n",
    "    uint256 cooldownIndex,\n",
    "    uint256 nextActionAt,\n",
    "    uint256 siringWithId,\n",
    "    uint256 birthTime,\n",
    "    uint256 matronId,\n",
    "    uint256 sireId,\n",
    "    uint256 generation,\n",
    "    uint256 genes\n",
    ") {\n",
    "    Kitty storage kit = kitties[_id];\n",
    "\n",
    "    // if this variable is 0 then it's not gestating\n",
    "    isGestating = (kit.siringWithId != 0);\n",
    "    isReady = (kit.cooldownEndBlock <= block.number);\n",
    "    cooldownIndex = uint256(kit.cooldownIndex);\n",
    "    nextActionAt = uint256(kit.cooldownEndBlock);\n",
    "    siringWithId = uint256(kit.siringWithId);\n",
    "    birthTime = uint256(kit.birthTime);\n",
    "    matronId = uint256(kit.matronId);\n",
    "    sireId = uint256(kit.sireId);\n",
    "    generation = uint256(kit.generation);\n",
    "    genes = kit.genes;\n",
    "}"
   ]
  },
  {
   "cell_type": "markdown",
   "metadata": {},
   "source": [
    "The function looks a bit different than we're used to. You can see it returns... a bunch of different values. If you're coming from a programming language like Javascript, this is different — in Solidity you can return more than one value from a function.\n",
    "\n",
    "Now that we know what this function looks like, we can use it to create an interface:\n",
    "\n",
    "- Define an interface called KittyInterface. Remember, this looks just like creating a new contract — we use the contract keyword.\n",
    "\n",
    "- Inside the interface, define the function getKitty (which should be a copy/paste of the function above, but with a semi-colon after the returns statement, instead of everything inside the curly braces.\n"
   ]
  },
  {
   "cell_type": "markdown",
   "metadata": {},
   "source": [
    "# Chapter 11: Using an Interface\n",
    "\n",
    "Continuing our previous example with NumberInterface, once we've defined the interface as:"
   ]
  },
  {
   "cell_type": "code",
   "execution_count": null,
   "metadata": {},
   "outputs": [],
   "source": [
    "contract NumberInterface {\n",
    "  function getNum(address _myAddress) public view returns (uint);\n",
    "}"
   ]
  },
  {
   "cell_type": "markdown",
   "metadata": {},
   "source": [
    "We can use it in a contract as follows:"
   ]
  },
  {
   "cell_type": "code",
   "execution_count": null,
   "metadata": {},
   "outputs": [],
   "source": [
    "contract MyContract {\n",
    "  address NumberInterfaceAddress = 0xab38... \n",
    "  // ^ The address of the FavoriteNumber contract on Ethereum\n",
    "  NumberInterface numberContract = NumberInterface(NumberInterfaceAddress);\n",
    "  // Now `numberContract` is pointing to the other contract\n",
    "\n",
    "  function someFunction() public {\n",
    "    // Now we can call `getNum` from that contract:\n",
    "    uint num = numberContract.getNum(msg.sender);\n",
    "    // ...and do something with `num` here\n",
    "  }\n",
    "}"
   ]
  },
  {
   "cell_type": "markdown",
   "metadata": {},
   "source": [
    "In this way, your contract can interact with any other contract on the Ethereum blockchain, as long they expose those functions as public or external."
   ]
  },
  {
   "cell_type": "markdown",
   "metadata": {},
   "source": [
    "### Put it to the test\n",
    "\n",
    "Let's set up our contract to read from the CryptoKitties smart contract!\n",
    "\n",
    "    I've saved the address of the CryptoKitties contract in the code for you, under a variable named ckAddress. In the next line, create a KittyInterface named kittyContract, and initialize it with ckAddress — just like we did with numberContract above.\n",
    "\n"
   ]
  },
  {
   "cell_type": "markdown",
   "metadata": {},
   "source": [
    "# Chapter 12: Handling Multiple Return Values\n",
    "\n",
    "This getKitty function is the first example we've seen that returns multiple values. Let's look at how to handle them:"
   ]
  },
  {
   "cell_type": "code",
   "execution_count": null,
   "metadata": {},
   "outputs": [],
   "source": [
    "function multipleReturns() internal returns(uint a, uint b, uint c) {\n",
    "  return (1, 2, 3);\n",
    "}\n",
    "\n",
    "function processMultipleReturns() external {\n",
    "  uint a;\n",
    "  uint b;\n",
    "  uint c;\n",
    "  // This is how you do multiple assignment:\n",
    "  (a, b, c) = multipleReturns();\n",
    "}\n",
    "\n",
    "// Or if we only cared about one of the values:\n",
    "function getLastReturnValue() external {\n",
    "  uint c;\n",
    "  // We can just leave the other fields blank:\n",
    "  (,,c) = multipleReturns();\n",
    "}"
   ]
  },
  {
   "cell_type": "markdown",
   "metadata": {},
   "source": [
    "# Put it to the test\n",
    "\n",
    "Time to interact with the CryptoKitties contract!\n",
    "\n",
    "Let's make a function that gets the kitty genes from the contract:\n",
    "\n",
    "- Make a function called feedOnKitty. It will take 2 uint parameters, _zombieId and _kittyId, and should be a public function.\n",
    "\n",
    "- The function should first declare a uint named kittyDna.\n",
    "\n",
    "        Note: In our KittyInterface, genes is a uint256 — but if you remember back to lesson 1, uint is an alias for uint256 — they're the same thing.\n",
    "\n",
    "- The function should then call the kittyContract.getKitty function with _kittyId and store genes in kittyDna. Remember — getKitty returns a ton of variables. (10 to be exact — I'm nice, I counted them for you!). But all we care about is the last one, genes. Count your commas carefully!\n",
    "\n",
    "- Finally, the function should call feedAndMultiply, and pass it both _zombieId and kittyDna.\n"
   ]
  },
  {
   "cell_type": "markdown",
   "metadata": {},
   "source": [
    "# Chapter 13: Bonus: Kitty Genes\n",
    "\n",
    "Our function logic is now complete... but let's add in one bonus feature.\n",
    "\n",
    "Let's make it so zombies made from kitties have some unique feature that shows they're cat-zombies.\n",
    "\n",
    "To do this, we can add some special kitty code in the zombie's DNA.\n",
    "\n",
    "If you recall from lesson 1, we're currently only using the first 12 digits of our 16 digit DNA to determine the zombie's appearance. So let's use the last 2 unused digits to handle \"special\" characteristics.\n",
    "\n",
    "We'll say that cat-zombies have 99 as their last two digits of DNA (since cats have 9 lives). So in our code, we'll say if a zombie comes from a cat, then set the last two digits of DNA to 99.\n",
    "If statements\n",
    "\n",
    "If statements in Solidity look just like javascript:"
   ]
  },
  {
   "cell_type": "code",
   "execution_count": null,
   "metadata": {},
   "outputs": [],
   "source": [
    "function eatBLT(string sandwich) public {\n",
    "  // Remember with strings, we have to compare their keccak256 hashes\n",
    "  // to check equality\n",
    "  if (keccak256(sandwich) == keccak256(\"BLT\")) {\n",
    "    eat();\n",
    "  }\n",
    "}"
   ]
  },
  {
   "cell_type": "markdown",
   "metadata": {},
   "source": [
    "### Put it to the test\n",
    "\n",
    "Let's implement cat genes in our zombie code.\n",
    "\n",
    "- First, let's change the function definition for feedAndMultiply so it takes a 3rd argument: a string named _species\n",
    "\n",
    "- Next, after we calculate the new zombie's DNA, let's add an if statement comparing the keccak256 hashes of _species and the string \"kitty\"\n",
    "\n",
    "- Inside the if statement, we want to replace the last 2 digits of DNA with 99. One way to do this is using the logic: newDna = newDna - newDna % 100 + 99;.\n",
    "\n",
    "        Explanation: Assume newDna is 334455. Then newDna % 100 is 55, so newDna - newDna % 100 is 334400. Finally add 99 to get 334499.\n",
    "\n",
    "- Lastly, we need to change the function call inside feedOnKitty. When it calls feedAndMultiply, add the parameter \"kitty\" to the end.\n",
    "\n"
   ]
  },
  {
   "cell_type": "code",
   "execution_count": null,
   "metadata": {},
   "outputs": [],
   "source": []
  }
 ],
 "metadata": {
  "kernelspec": {
   "display_name": "Python 3",
   "language": "python",
   "name": "python3"
  },
  "language_info": {
   "codemirror_mode": {
    "name": "ipython",
    "version": 3
   },
   "file_extension": ".py",
   "mimetype": "text/x-python",
   "name": "python",
   "nbconvert_exporter": "python",
   "pygments_lexer": "ipython3",
   "version": "3.5.2"
  }
 },
 "nbformat": 4,
 "nbformat_minor": 2
}
