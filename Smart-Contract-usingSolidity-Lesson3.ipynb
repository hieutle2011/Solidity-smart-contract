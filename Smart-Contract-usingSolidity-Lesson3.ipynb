{
 "cells": [
  {
   "cell_type": "markdown",
   "metadata": {},
   "source": [
    "# Lesson 3: Advanced Solidity Concepts\n",
    "\n",
    "Grr... I just can't slow you down, can I? Your Solidity skills are formidable, human...\n",
    "\n",
    "Now that you've got some experience coding Solidity under your belt, we're going to dive into some of the more technical aspects of Ethereum development.\n",
    "\n",
    "This lesson will be a bit less flashy (sorry, no plot twists!). But you’ll learn some really important concepts that will take you closer to building real DApps — things like contract ownership, gas costs, code optimization, and security.\n",
    "\n",
    "You've been warned — no kitties and rainbows in Lesson 3!\n",
    "\n",
    "But a lot of densely-packed Solidity knowledge. We strongly recommended that you complete Lesson 2 before starting this one.\n",
    "\n",
    "Are you ready to get started?"
   ]
  },
  {
   "cell_type": "markdown",
   "metadata": {},
   "source": [
    "# Chapter 1: Immutability of Contracts\n",
    "\n",
    "Up until now, Solidity has looked quite similar to other languages like JavaScript. But there are a number of ways that Ethereum DApps are actually quite different from normal applications.\n",
    "\n",
    "To start with, after you deploy a contract to Ethereum, it’s immutable, which means that it can never be modified or updated again.\n",
    "\n",
    "The initial code you deploy to a contract is there to stay, permanently, on the blockchain. This is one reason security is such a huge concern in Solidity. If there's a flaw in your contract code, there's no way for you to patch it later. You would have to tell your users to start using a different smart contract address that has the fix.\n",
    "\n",
    "But this is also a feature of smart contracts. The code is law. If you read the code of a smart contract and verify it, you can be sure that every time you call a function it's going to do exactly what the code says it will do. No one can later change that function and give you unexpected results.\n",
    "### External dependencies\n",
    "\n",
    "In Lesson 2, we hard-coded the CryptoKitties contract address into our DApp. But what would happen if the CryptoKitties contract had a bug and someone destroyed all the kitties?\n",
    "\n",
    "It's unlikely, but if this did happen it would render our DApp completely useless — our DApp would point to a hardcoded address that no longer returned any kitties. Our zombies would be unable to feed on kitties, and we'd be unable to modify our contract to fix it.\n",
    "\n",
    "For this reason, it often makes sense to have functions that will allow you to update key portions of the DApp.\n",
    "\n",
    "For example, instead of hard coding the CryptoKitties contract address into our DApp, we should probably have a setKittyContractAddress function that lets us change this address in the future in case something happens to the CryptoKitties contract.\n",
    "Put it to the test\n",
    "\n",
    "Let's update our code from Lesson 2 to be able to change the CryptoKitties contract address.\n",
    "\n",
    "- Delete the line of code where we hard-coded ckAddress.\n",
    "\n",
    "- Change the line where we created kittyContract to just declare the variable — i.e. don't set it equal to anything.\n",
    "\n",
    "- Create a function called setKittyContractAddress. It will take one argument, _address (an address), and it should be an external function.\n",
    "\n",
    "- Inside the function, add one line of code that sets kittyContract equal to KittyInterface(_address).\n",
    "\n",
    "    Note: If you notice a security hole with this function, don't worry — we'll fix it in the next chapter ;)\n",
    "\n"
   ]
  },
  {
   "cell_type": "code",
   "execution_count": null,
   "metadata": {},
   "outputs": [],
   "source": [
    "contract ZombieFeeding is ZombieFactory {\n",
    "  # 2. Change this to just a declaration:\n",
    "  KittyInterface kittyContract;\n",
    "\n",
    "  # 3. Add setKittyContractAddress method here\n",
    "  function setKittyContractAddress(address _address) external {\n",
    "      kittyContract = KittyInterface(_address);\n",
    "  }\n",
    "  ....\n",
    "}"
   ]
  },
  {
   "cell_type": "markdown",
   "metadata": {},
   "source": [
    "# Chapter 2: Ownable Contracts\n",
    "\n",
    "Did you spot the security hole in the previous chapter?\n",
    "\n",
    "setKittyContractAddress is external, so anyone can call it! That means anyone who called the function could change the address of the CryptoKitties contract, and break our app for all its users.\n",
    "\n",
    "We do want the ability to update this address in our contract, but we don't want everyone to be able to update it.\n",
    "\n",
    "To handle cases like this, one common practice that has emerged is to make contracts Ownable — meaning they have an owner (you) who has special privileges.\n",
    "\n",
    "### OpenZeppelin's Ownable contract\n",
    "\n",
    "Below is the Ownable contract taken from the *OpenZeppelin* Solidity library. OpenZeppelin is a library of secure and community-vetted smart contracts that you can use in your own DApps. After this lesson, we highly recommend you check out their site to further your learning!\n",
    "\n",
    "Give the contract below a read-through. You're going to see a few things we haven't learned yet, but don't worry, we'll talk about them afterward.\n",
    "\n",
    "#### *owneable.sol*\n",
    "\n",
    "A few new things here we haven't seen before:\n",
    "\n",
    "- Constructors: function Ownable() is a constructor, which is an optional special function that has the same name as the contract. It will get executed only one time, when the contract is first created.\n",
    "- Function Modifiers: modifier onlyOwner(). Modifiers are kind of half-functions that are used to modify other functions, usually to check some requirements prior to execution. In this case, onlyOwner can be used to limit access so only the owner of the contract can run this function. We'll talk more about function modifiers in the next chapter, and what that weird _; does.\n",
    "- indexed keyword: don't worry about this one, we don't need it yet.\n",
    "\n",
    "So the Ownable contract basically does the following:\n",
    "\n",
    "- When a contract is created, its constructor sets the owner to msg.sender (the person who deployed it)\n",
    "\n",
    "- It adds an onlyOwner modifier, which can restrict access to certain functions to only the owner\n",
    "\n",
    "- It allows you to transfer the contract to a new owner\n",
    "\n",
    "onlyOwner is such a common requirement for contracts that most Solidity DApps start with a copy/paste of this Ownable contract, and then their first contract inherits from it.\n",
    "\n",
    "Since we want to limit setKittyContractAddress to onlyOwner, we're going to do the same for our contract.\n",
    "### Put it to the test\n",
    "\n",
    "We've gone ahead and copied the code of the Ownable contract into a new file, ownable.sol. Let's go ahead and make ZombieFactory inherit from it.\n",
    "\n",
    "- Modify our code to import the contents of ownable.sol. If you don't remember how to do this take a look at zombiefeeding.sol.\n",
    "\n",
    "- Modify the ZombieFactory contract to inherit from Ownable. Again, you can take a look at zombiefeeding.sol if you don't remember how this is done.\n"
   ]
  },
  {
   "cell_type": "code",
   "execution_count": null,
   "metadata": {},
   "outputs": [],
   "source": [
    "import \"./ownable.sol\";\n",
    "\n",
    "contract ZombieFactory is Ownable {"
   ]
  },
  {
   "cell_type": "markdown",
   "metadata": {},
   "source": [
    "# Chapter 3: onlyOwner Function Modifier\n",
    "\n",
    "Now that our base contract ZombieFactory inherits from Ownable, we can use the onlyOwner function modifier in ZombieFeeding as well.\n",
    "\n",
    "This is because of how contract inheritance works. Remember:\n",
    "\n",
    "ZombieFeeding is ZombieFactory\n",
    "\n",
    "ZombieFactory is Ownable\n",
    "\n",
    "Thus ZombieFeeding is also Ownable, and can access the functions / events / modifiers from the Ownable contract. This applies to any contracts that inherit from ZombieFeeding in the future as well.\n",
    "### Function Modifiers\n",
    "\n",
    "A function modifier looks just like a function, but uses the keyword modifier instead of the keyword function. And it can't be called directly like a function can — instead we can attach the modifier's name at the end of a function definition to change that function's behavior.\n",
    "\n",
    "Let's take a closer look by examining onlyOwner:"
   ]
  },
  {
   "cell_type": "code",
   "execution_count": null,
   "metadata": {},
   "outputs": [],
   "source": [
    "/**\n",
    " * @dev Throws if called by any account other than the owner.\n",
    " */\n",
    "modifier onlyOwner() {\n",
    "  require(msg.sender == owner);\n",
    "  _;\n",
    "}"
   ]
  },
  {
   "cell_type": "markdown",
   "metadata": {},
   "source": [
    "We would use this modifier as follows:"
   ]
  },
  {
   "cell_type": "code",
   "execution_count": null,
   "metadata": {},
   "outputs": [],
   "source": [
    "contract MyContract is Ownable {\n",
    "  event LaughManiacally(string laughter);\n",
    "\n",
    "  # Note the usage of `onlyOwner` below:\n",
    "  function likeABoss() external onlyOwner {\n",
    "    LaughManiacally(\"Muahahahaha\");\n",
    "  }\n",
    "}"
   ]
  },
  {
   "cell_type": "markdown",
   "metadata": {},
   "source": [
    "Notice the onlyOwner modifier on the likeABoss function. When you call likeABoss, the code inside onlyOwner executes first. Then when it hits the _; statement in onlyOwner, it goes back and executes the code inside likeABoss.\n",
    "\n",
    "So while there are other ways you can use modifiers, one of the most common use-cases is to add quick require check before a function executes.\n",
    "\n",
    "In the case of onlyOwner, adding this modifier to a function makes it so only the owner of the contract (you, if you deployed it) can call that function.\n",
    "\n",
    "\n",
    "    Note: Giving the owner special powers over the contract like this is often necessary, but it could also be used maliciously. For example, the owner could add a backdoor function that would allow him to transfer anyone's zombies to himself!\n",
    "\n",
    "    So it's important to remember that just because a DApp is on Ethereum does not automatically mean it's decentralized — you have to actually read the full source code to make sure it's free of special controls by the owner that you need to potentially worry about. There's a careful balance as a developer between maintaining control over a DApp such that you can fix potential bugs, and building an owner-less platform that your users can trust to secure their data.\n",
    "\n",
    "\n",
    "### Put it to the test\n",
    "\n",
    "Now we can restrict access to setKittyContractAddress so that no one but us can modify it in the future.\n",
    "\n",
    "    Add the onlyOwner modifier to setKittyContractAddress."
   ]
  },
  {
   "cell_type": "markdown",
   "metadata": {},
   "source": [
    "# Chapter 4: Gas\n",
    "\n",
    "Great! Now we know how to update key portions of the DApp while preventing other users from messing with our contracts.\n",
    "\n",
    "Let's look at another way Solidity is quite different from other programming languages:\n",
    "### Gas — the fuel Ethereum DApps run on\n",
    "\n",
    "In Solidity, your users have to pay every time they execute a function on your DApp using a currency called gas. Users buy gas with Ether (the currency on Ethereum), so your users have to spend ETH in order to execute functions on your DApp.\n",
    "\n",
    "How much gas is required to execute a function depends on how complex that function's logic is. Each individual operation has a gas cost based roughly on how much computing resources will be required to perform that operation (e.g. writing to storage is much more expensive than adding two integers). The total gas cost of your function is the sum of the gas costs of all its individual operations.\n",
    "\n",
    "Because running functions costs real money for your users, code optimization is much more important in Ethereum than in other programming languages. If your code is sloppy, your users are going to have to pay a premium to execute your functions — and this could add up to millions of dollars in unnecessary fees across thousands of users.\n",
    "### Why is gas necessary?\n",
    "\n",
    "Ethereum is like a big, slow, but extremely secure computer. When you execute a function, every single node on the network needs to run that same function to verify its output — thousands of nodes verifying every function execution is what makes Ethereum decentralized, and its data immutable and censorship-resistant.\n",
    "\n",
    "The creators of Ethereum wanted to make sure someone couldn't clog up the network with an infinite loop, or hog all the network resources with really intensive computations. So they made it so transactions aren't free, and users have to pay for computation time as well as storage.\n",
    "\n",
    "    Note: This isn't necessarily true for sidechains, like the ones the CryptoZombies authors are building at Loom Network. It probably won't ever make sense to run a game like World of Warcraft directly on the Ethereum mainnet — the gas costs would be prohibitively expensive. But it could run on a sidechain with a different consensus algorithm. We'll talk more about what types of DApps you would want to deploy on sidechains vs the Ethereum mainnet in a future lesson.\n",
    "\n",
    "### Struct packing to save gas\n",
    "\n",
    "In Lesson 1, we mentioned that there are other types of uints: uint8, uint16, uint32, etc.\n",
    "\n",
    "Normally there's no benefit to using these sub-types because Solidity reserves 256 bits of storage regardless of the uint size. For example, using uint8 instead of uint (uint256) won't save you any gas.\n",
    "\n",
    "But there's an exception to this: inside structs.\n",
    "\n",
    "If you have multiple uints inside a struct, using a smaller-sized uint when possible will allow Solidity to pack these variables together to take up less storage. For example:"
   ]
  },
  {
   "cell_type": "code",
   "execution_count": null,
   "metadata": {},
   "outputs": [],
   "source": [
    "struct NormalStruct {\n",
    "  uint a;\n",
    "  uint b;\n",
    "  uint c;\n",
    "}\n",
    "\n",
    "struct MiniMe {\n",
    "  uint32 a;\n",
    "  uint32 b;\n",
    "  uint c;\n",
    "}\n",
    "\n",
    "# `mini` will cost less gas than `normal` because of struct packing\n",
    "NormalStruct normal = NormalStruct(10, 20, 30);\n",
    "MiniMe mini = MiniMe(10, 20, 30);\n"
   ]
  },
  {
   "cell_type": "markdown",
   "metadata": {},
   "source": [
    "For this reason, inside a struct you'll want to use the smallest integer sub-types you can get away with.\n",
    "\n",
    "You'll also want to cluster identical data types together (i.e. put them next to each other in the struct) so that Solidity can minimize the required storage space. For example, a struct with fields uint c; uint32 a; uint32 b; will cost less gas than a struct with fields uint32 a; uint c; uint32 b; because the uint32 fields are clustered together.\n",
    "### Put it to the test\n",
    "\n",
    "In this lesson, we're going to add 2 new features to our zombies: level and readyTime — the latter will be used to implement a cooldown timer to limit how often a zombie can feed.\n",
    "\n",
    "So let's jump back to zombiefactory.sol.\n",
    "\n",
    "    Add two more properties to our Zombie struct: level (a uint32), and readyTime (also a uint32). We want to pack these data types together, so let's put them at the end of the struct.\n",
    "\n",
    "32 bits is more than enough to hold the zombie's level and timestamp, so this will save us some gas costs by packing the data more tightly than using a regular uint (256-bits)."
   ]
  },
  {
   "cell_type": "code",
   "execution_count": null,
   "metadata": {},
   "outputs": [],
   "source": [
    "    struct Zombie {\n",
    "        string name;\n",
    "        uint dna;\n",
    "        uint32 level;\n",
    "        uint32 readyTime;\n",
    "    }"
   ]
  },
  {
   "cell_type": "markdown",
   "metadata": {},
   "source": [
    "# Chapter 5: Time Units\n",
    "\n",
    "The level property is pretty self-explanatory. Later on, when we create a battle system, zombies who win more battles will level up over time and get access to more abilities.\n",
    "\n",
    "The readyTime property requires a bit more explanation. The goal is to add a \"cooldown period\", an amount of time a zombie has to wait after feeding or attacking before it's allowed to feed / attack again. Without this, the zombie could attack and multiply 1,000 times per day, which would make the game way too easy.\n",
    "\n",
    "In order to keep track of how much time a zombie has to wait until it can attack again, we can use Solidity's time units.\n",
    "### Time units\n",
    "\n",
    "Solidity provides some native units for dealing with time.\n",
    "\n",
    "The variable now will return the current unix timestamp (the number of seconds that have passed since January 1st 1970). The unix time as I write this is 1515527488.\n",
    "\n",
    "    Note: Unix time is traditionally stored in a 32-bit number. This will lead to the \"Year 2038\" problem, when 32-bit unix timestamps will overflow and break a lot of legacy systems. So if we wanted our DApp to keep running 20 years from now, we could use a 64-bit number instead — but our users would have to spend more gas to use our DApp in the meantime. Design decisions!\n",
    "\n",
    "Solidity also contains the time units seconds, minutes, hours, days, weeks and years. These will convert to a uint of the number of seconds in that length of time. So 1 minutes is 60, 1 hours is 3600 (60 seconds x 60 minutes), 1 days is 86400 (24 hours x 60 minutes x 60 seconds), etc.\n",
    "\n",
    "Here's an example of how these time units can be useful:"
   ]
  },
  {
   "cell_type": "code",
   "execution_count": null,
   "metadata": {},
   "outputs": [],
   "source": [
    "uint lastUpdated;\n",
    "\n",
    "# Set `lastUpdated` to `now`\n",
    "function updateTimestamp() public {\n",
    "  lastUpdated = now;\n",
    "}\n",
    "\n",
    "# Will return `true` if 5 minutes have passed since `updateTimestamp` was \n",
    "# called, `false` if 5 minutes have not passed\n",
    "function fiveMinutesHavePassed() public view returns (bool) {\n",
    "  return (now >= (lastUpdated + 5 minutes));\n",
    "}"
   ]
  },
  {
   "cell_type": "markdown",
   "metadata": {},
   "source": [
    "We can use these time units for our Zombie cooldown feature.\n",
    "\n",
    "### Put it to the test\n",
    "\n",
    "Let's add a cooldown time to our DApp, and make it so zombies have to wait 1 day after attacking or feeding to attack again.\n",
    "\n",
    "    Declare a uint called cooldownTime, and set it equal to 1 days. (Forgive the poor grammar — if you set it equal to \"1 day\", it won't compile!)\n",
    "\n",
    "    Since we added a level and readyTime to our Zombie struct in the previous chapter, we need to update _createZombie() to use the correct number of arguments when we create a new Zombie struct.\n",
    "\n",
    "    Update the zombies.push line of code to add 2 more arguments: 1 (for level), and uint32(now + cooldownTime) (for readyTime).\n",
    "\n",
    "    Note: The uint32(...) is necessary because now returns a uint256 by default. So we need to explicitly convert it to a uint32.\n",
    "\n",
    "now + cooldownTime will equal the current unix timestamp (in seconds) plus the number of seconds in 1 day — which will equal the unix timestamp 1 day from now. Later we can compare to see if this zombie's readyTime is greater than now to see if enough time has passed to use the zombie again.\n",
    "\n",
    "We'll implement the functionality to limit actions based on readyTime in the next chapter."
   ]
  },
  {
   "cell_type": "markdown",
   "metadata": {},
   "source": [
    "# Chapter 6: Zombie Cooldowns\n",
    "\n",
    "Now that we have a readyTime property on our Zombie struct, let's jump to zombiefeeding.sol and implement a cooldown timer.\n",
    "\n",
    "We're going to modify our feedAndMultiply such that:\n",
    "\n",
    "    Feeding triggers a zombie's cooldown, and\n",
    "\n",
    "    Zombies can't feed on kitties until their cooldown period has passed\n",
    "\n",
    "This will make it so zombies can't just feed on unlimited kitties and multiply all day. In the future when we add battle functionality, we'll make it so attacking other zombies also relies on the cooldown.\n",
    "\n",
    "First, we're going to define some helper functions that let us set and check a zombie's readyTime.\n",
    "### Passing structs as arguments\n",
    "\n",
    "You can pass a storage pointer to a struct as an argument to a private or internal function. This is useful, for example, for passing around our Zombie structs between functions.\n",
    "\n",
    "The syntax looks like this:"
   ]
  },
  {
   "cell_type": "code",
   "execution_count": null,
   "metadata": {},
   "outputs": [],
   "source": [
    "function _doStuff(Zombie storage _zombie) internal {\n",
    "  # do stuff with _zombie\n",
    "}"
   ]
  },
  {
   "cell_type": "markdown",
   "metadata": {},
   "source": [
    "This way we can pass a reference to our zombie into a function instead of passing in a zombie ID and looking it up.\n",
    "### Put it to the test\n",
    "\n",
    "- Start by defining a _triggerCooldown function. It will take 1 argument, _zombie, a Zombie storage pointer. The function should be internal.\n",
    "\n",
    "- The function body should set _zombie.readyTime to uint32(now + cooldownTime).\n",
    "\n",
    "- Next, create a function called _isReady. This function will also take a Zombie storage argument named _zombie. It will be an internal view function, and return a bool.\n",
    "\n",
    "- The function body should return (_zombie.readyTime <= now), which will evaluate to either true or false. This function will tell us if enough time has passed since the last time the zombie fed.\n"
   ]
  },
  {
   "cell_type": "code",
   "execution_count": null,
   "metadata": {},
   "outputs": [],
   "source": [
    "  # 1. Define `_triggerCooldown` function here\n",
    "  function _triggerCooldown(Zombie storage _zombie) internal {\n",
    "    _zombie.readyTime = uint32(now + cooldownTime);\n",
    "  }\n",
    "\n",
    "  # 2. Define `_isReady` function here\n",
    "  function _isReady(Zombie storage _zombie) internal view returns (bool) {\n",
    "    return (_zombie.readyTime <= now);\n",
    "  }"
   ]
  },
  {
   "cell_type": "markdown",
   "metadata": {},
   "source": [
    "# Chapter 7: Public Functions & Security\n",
    "\n",
    "Now let's modify feedAndMultiply to take our cooldown timer into account.\n",
    "\n",
    "Looking back at this function, you can see we made it public in the previous lesson. An important security practice is to examine all your public and external functions, and try to think of ways users might abuse them. Remember — unless these functions have a modifier like onlyOwner, any user can call them and pass them any data they want to.\n",
    "\n",
    "Re-examining this particular function, the user could call the function directly and pass in any _targetDna or _species they want to. This doesn't seem very game-like — we want them to follow our rules!\n",
    "\n",
    "On closer inspection, this function only needs to be called by feedOnKitty(), so the easiest way to prevent these exploits is to make it internal.\n",
    "### Put it to the test\n",
    "\n",
    "- Currently feedAndMultiply is a public function. Let's make it internal so that the contract is more secure. We don't want users to be able to call this function with any DNA they want.\n",
    "\n",
    "- Let's make feedAndMultiply take our cooldownTime into account. First, after we look up myZombie, let's add a require statement that checks _isReady() and passes myZombie to it. This way the user can only execute this function if a zombie's cooldown time is over.\n",
    "\n",
    "- At the end of the function let's call _triggerCooldown(myZombie) so that feeding triggers the zombie's cooldown time.\n",
    "\n"
   ]
  },
  {
   "cell_type": "code",
   "execution_count": null,
   "metadata": {},
   "outputs": [],
   "source": []
  }
 ],
 "metadata": {
  "kernelspec": {
   "display_name": "Python 3",
   "language": "python",
   "name": "python3"
  },
  "language_info": {
   "codemirror_mode": {
    "name": "ipython",
    "version": 3
   },
   "file_extension": ".py",
   "mimetype": "text/x-python",
   "name": "python",
   "nbconvert_exporter": "python",
   "pygments_lexer": "ipython3",
   "version": "3.5.2"
  }
 },
 "nbformat": 4,
 "nbformat_minor": 2
}
